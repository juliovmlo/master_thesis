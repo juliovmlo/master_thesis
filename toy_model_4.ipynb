{
 "cells": [
  {
   "cell_type": "code",
   "execution_count": 1,
   "metadata": {},
   "outputs": [],
   "source": [
    "# Import libraries\n",
    "import os\n",
    "import numpy as np\n",
    "from beam_corot.ComplBeam import ComplBeam\n",
    "from beam_corot.CoRot import CoRot\n",
    "from pybevc import PyBEVC\n",
    "from utils import save_load\n",
    "from inertial_forces import inertial_loads_fun_v04\n",
    "from input import createProjectFolder"
   ]
  },
  {
   "cell_type": "code",
   "execution_count": 3,
   "metadata": {},
   "outputs": [],
   "source": [
    "# Main loop options\n",
    "epsilon = 1e-3\n",
    "delta_u_rel = epsilon + 1\n",
    "iter_max = 20"
   ]
  },
  {
   "cell_type": "code",
   "execution_count": 4,
   "metadata": {},
   "outputs": [],
   "source": [
    "# Simulation conditions\n",
    "U0 = 10\n",
    "TSR = 7 #Not used for now\n",
    "omega = 1 # rad/s\n",
    "pitch_deg = 0\n",
    "pitch_rad = np.deg2rad(pitch_deg)\n",
    "hub_di = 3 # See how to get it from htc file"
   ]
  },
  {
   "cell_type": "code",
   "execution_count": 2,
   "metadata": {},
   "outputs": [],
   "source": [
    "# Folders and file names\n",
    "inputfolder = 'examples/input_iea15mw'\n",
    "projectfolder = 'examples/project_folder'\n",
    "c2_file = 'c2_pos.dat'\n",
    "st_file = 'IEA_15MW_RWT_Blade_st_FPM.st'\n",
    "ae_file = 'IEA_15MW_RWT_ae.dat'\n",
    "pc_file = 'IEA_15MW_RWT_pc.dat'\n",
    "\n",
    "createProjectFolder(inputfolder,projectfolder,c2_file,st_file,ae_file,pc_file)\n",
    "\n"
   ]
  },
  {
   "cell_type": "markdown",
   "metadata": {},
   "source": [
    "## Inertial model"
   ]
  },
  {
   "cell_type": "code",
   "execution_count": null,
   "metadata": {},
   "outputs": [],
   "source": [
    "# Input files folder\n",
    "propfile = os.path.join(os.getcwd(),'property_file.dat')\n",
    "\n",
    "stPropertyInput = np.loadtxt(propfile, skiprows=3)\n",
    "\n",
    "# cg_offset are a set of vectors in blade root coordinates that indicate the position of the CoG with\n",
    "# respect to then nodes (centre of elasticity)\n",
    "# r_node2cg = r_c22cg - r_c22node\n",
    "cg_offset = "
   ]
  },
  {
   "cell_type": "markdown",
   "metadata": {},
   "source": [
    "## Structural model init"
   ]
  },
  {
   "cell_type": "code",
   "execution_count": 3,
   "metadata": {},
   "outputs": [
    {
     "name": "stdout",
     "output_type": "stream",
     "text": [
      "-----------\n",
      "Timo Mass Matrix\n",
      "ComplBeam Model Created\n",
      "Static analysis done\n"
     ]
    }
   ],
   "source": [
    "# Model input json file  name\n",
    "f_model_json = \"config.json\"\n",
    "\n",
    "# Input files folder\n",
    "inputfolder = os.path.join(os.getcwd(),'examples/project_folder/stru')\n",
    "mainfile = os.path.join(inputfolder,f_model_json)\n",
    "\n",
    "# Initialize beam model\n",
    "save_load([0], inputfolder, onlyy=True) # Creates a force file\n",
    "beam = ComplBeam(mainfile)\n"
   ]
  },
  {
   "cell_type": "code",
   "execution_count": 4,
   "metadata": {},
   "outputs": [
    {
     "data": {
      "text/plain": [
       "array([[ 1.22173620e+03,  6.92464424e-02,  2.99657490e-02, ...,\n",
       "         0.00000000e+00,  0.00000000e+00,  0.00000000e+00],\n",
       "       [ 6.92464424e-02,  1.22247162e+03, -2.53426197e-02, ...,\n",
       "         0.00000000e+00,  0.00000000e+00,  0.00000000e+00],\n",
       "       [ 2.99657490e-02, -2.53426197e-02,  1.22071170e+03, ...,\n",
       "         0.00000000e+00,  0.00000000e+00,  0.00000000e+00],\n",
       "       ...,\n",
       "       [ 0.00000000e+00,  0.00000000e+00,  0.00000000e+00, ...,\n",
       "         2.56533717e+00,  2.68667512e-01,  7.51031361e-02],\n",
       "       [ 0.00000000e+00,  0.00000000e+00,  0.00000000e+00, ...,\n",
       "         2.68667512e-01,  3.90224401e+00,  3.37300897e-01],\n",
       "       [ 0.00000000e+00,  0.00000000e+00,  0.00000000e+00, ...,\n",
       "         7.51031361e-02,  3.37300897e-01,  3.51098572e-01]])"
      ]
     },
     "execution_count": 4,
     "metadata": {},
     "output_type": "execute_result"
    }
   ],
   "source": [
    "beam.M_mat_full"
   ]
  },
  {
   "cell_type": "markdown",
   "metadata": {},
   "source": [
    "## Aerodynamic model init"
   ]
  },
  {
   "cell_type": "code",
   "execution_count": 14,
   "metadata": {},
   "outputs": [
    {
     "ename": "ValueError",
     "evalue": "x need to have the same size as s (given: np.size(s)=30, np.size(x)=34)",
     "output_type": "error",
     "traceback": [
      "\u001b[0;31m---------------------------------------------------------------------------\u001b[0m",
      "\u001b[0;31mValueError\u001b[0m                                Traceback (most recent call last)",
      "Cell \u001b[0;32mIn[14], line 13\u001b[0m\n\u001b[1;32m     11\u001b[0m bevc\u001b[38;5;241m.\u001b[39mfrom_ae_file(os\u001b[38;5;241m.\u001b[39mpath\u001b[38;5;241m.\u001b[39mjoin(inputfolder,\u001b[38;5;124m'\u001b[39m\u001b[38;5;124mae_file.dat\u001b[39m\u001b[38;5;124m'\u001b[39m))\n\u001b[1;32m     12\u001b[0m bevc\u001b[38;5;241m.\u001b[39mfrom_pc_file(os\u001b[38;5;241m.\u001b[39mpath\u001b[38;5;241m.\u001b[39mjoin(inputfolder,\u001b[38;5;124m'\u001b[39m\u001b[38;5;124mpc_file.dat\u001b[39m\u001b[38;5;124m'\u001b[39m))\n\u001b[0;32m---> 13\u001b[0m \u001b[43mbevc\u001b[49m\u001b[38;5;241;43m.\u001b[39;49m\u001b[43mfrom_c2_file\u001b[49m\u001b[43m(\u001b[49m\u001b[43mos\u001b[49m\u001b[38;5;241;43m.\u001b[39;49m\u001b[43mpath\u001b[49m\u001b[38;5;241;43m.\u001b[39;49m\u001b[43mjoin\u001b[49m\u001b[43m(\u001b[49m\u001b[43minputfolder\u001b[49m\u001b[43m,\u001b[49m\u001b[38;5;124;43m'\u001b[39;49m\u001b[38;5;124;43mc2_pos.dat\u001b[39;49m\u001b[38;5;124;43m'\u001b[39;49m\u001b[43m)\u001b[49m\u001b[43m)\u001b[49m\n\u001b[1;32m     15\u001b[0m \u001b[38;5;66;03m# Display all data as an Xarray object\u001b[39;00m\n\u001b[1;32m     16\u001b[0m xr_inp \u001b[38;5;241m=\u001b[39m bevc\u001b[38;5;241m.\u001b[39mas_xarray()\n",
      "File \u001b[0;32m~/.local/lib/python3.10/site-packages/pybevc/pybevc.py:738\u001b[0m, in \u001b[0;36m_PyBEVC_set_data.from_c2_file\u001b[0;34m(self, c2_filename)\u001b[0m\n\u001b[1;32m    726\u001b[0m \u001b[38;5;28;01mdef\u001b[39;00m \u001b[38;5;21mfrom_c2_file\u001b[39m(\u001b[38;5;28mself\u001b[39m, c2_filename):\n\u001b[1;32m    727\u001b[0m \u001b[38;5;250m    \u001b[39m\u001b[38;5;124;03m\"\"\"\u001b[39;00m\n\u001b[1;32m    728\u001b[0m \u001b[38;5;124;03m    read blade c2 file and sets: x, y, z, twist\u001b[39;00m\n\u001b[1;32m    729\u001b[0m \n\u001b[0;32m   (...)\u001b[0m\n\u001b[1;32m    736\u001b[0m \u001b[38;5;124;03m    None\u001b[39;00m\n\u001b[1;32m    737\u001b[0m \u001b[38;5;124;03m    \"\"\"\u001b[39;00m\n\u001b[0;32m--> 738\u001b[0m     \u001b[38;5;28;01mreturn\u001b[39;00m \u001b[38;5;28;43mself\u001b[39;49m\u001b[38;5;241;43m.\u001b[39;49m\u001b[43mfrom_dict\u001b[49m\u001b[43m(\u001b[49m\u001b[43mread_c2_file\u001b[49m\u001b[43m(\u001b[49m\u001b[43mc2_filename\u001b[49m\u001b[43m)\u001b[49m\u001b[43m)\u001b[49m\n",
      "File \u001b[0;32m~/.local/lib/python3.10/site-packages/pybevc/pybevc.py:666\u001b[0m, in \u001b[0;36m_PyBEVC_set_data.from_dict\u001b[0;34m(self, inp_dict)\u001b[0m\n\u001b[1;32m    663\u001b[0m         \u001b[38;5;28;01mcontinue\u001b[39;00m\n\u001b[1;32m    665\u001b[0m     \u001b[38;5;66;03m# Setting variable\u001b[39;00m\n\u001b[0;32m--> 666\u001b[0m     \u001b[38;5;28;43msetattr\u001b[39;49m\u001b[43m(\u001b[49m\u001b[38;5;28;43mself\u001b[39;49m\u001b[43m,\u001b[49m\u001b[43m \u001b[49m\u001b[43mkey\u001b[49m\u001b[43m,\u001b[49m\u001b[43m \u001b[49m\u001b[43mval\u001b[49m\u001b[43m)\u001b[49m\n\u001b[1;32m    668\u001b[0m \u001b[38;5;28;01mreturn\u001b[39;00m \u001b[38;5;28mself\u001b[39m\n",
      "File \u001b[0;32m~/.local/lib/python3.10/site-packages/pybevc/pybevc.py:132\u001b[0m, in \u001b[0;36m_PyBEVC_varibles.x\u001b[0;34m(self, x)\u001b[0m\n\u001b[1;32m    130\u001b[0m \u001b[38;5;129m@x\u001b[39m\u001b[38;5;241m.\u001b[39msetter\n\u001b[1;32m    131\u001b[0m \u001b[38;5;28;01mdef\u001b[39;00m \u001b[38;5;21mx\u001b[39m(\u001b[38;5;28mself\u001b[39m, x):\n\u001b[0;32m--> 132\u001b[0m     \u001b[38;5;28;43mself\u001b[39;49m\u001b[38;5;241;43m.\u001b[39;49m\u001b[43m_validate_input_with_s\u001b[49m\u001b[43m(\u001b[49m\u001b[38;5;124;43m\"\u001b[39;49m\u001b[38;5;124;43mx\u001b[39;49m\u001b[38;5;124;43m\"\u001b[39;49m\u001b[43m,\u001b[49m\u001b[43m \u001b[49m\u001b[43mx\u001b[49m\u001b[43m)\u001b[49m\n\u001b[1;32m    133\u001b[0m     \u001b[38;5;28mself\u001b[39m\u001b[38;5;241m.\u001b[39m_x \u001b[38;5;241m=\u001b[39m np\u001b[38;5;241m.\u001b[39masarray(x)\n",
      "File \u001b[0;32m~/.local/lib/python3.10/site-packages/pybevc/pybevc.py:576\u001b[0m, in \u001b[0;36m_PyBEVC_varibles._validate_input_with_s\u001b[0;34m(self, name, value, s)\u001b[0m\n\u001b[1;32m    574\u001b[0m s_val \u001b[38;5;241m=\u001b[39m \u001b[38;5;28mgetattr\u001b[39m(\u001b[38;5;28mself\u001b[39m, s)\n\u001b[1;32m    575\u001b[0m \u001b[38;5;28;01mif\u001b[39;00m \u001b[38;5;129;01mnot\u001b[39;00m (np\u001b[38;5;241m.\u001b[39msize(s_val) \u001b[38;5;241m==\u001b[39m np\u001b[38;5;241m.\u001b[39msize(value)):\n\u001b[0;32m--> 576\u001b[0m     \u001b[38;5;28;01mraise\u001b[39;00m \u001b[38;5;167;01mValueError\u001b[39;00m(\u001b[38;5;124m\"\u001b[39m\u001b[38;5;132;01m%s\u001b[39;00m\u001b[38;5;124m need to have the same size as \u001b[39m\u001b[38;5;132;01m%s\u001b[39;00m\u001b[38;5;124m \u001b[39m\u001b[38;5;124m\"\u001b[39m\n\u001b[1;32m    577\u001b[0m                      \u001b[38;5;124m\"\u001b[39m\u001b[38;5;124m(given: np.size(s)=\u001b[39m\u001b[38;5;132;01m%d\u001b[39;00m\u001b[38;5;124m, np.size(\u001b[39m\u001b[38;5;132;01m%s\u001b[39;00m\u001b[38;5;124m)=\u001b[39m\u001b[38;5;132;01m%d\u001b[39;00m\u001b[38;5;124m)\u001b[39m\u001b[38;5;124m\"\u001b[39m \u001b[38;5;241m%\u001b[39m (name, s, np\u001b[38;5;241m.\u001b[39msize(s_val), name, np\u001b[38;5;241m.\u001b[39msize(value)))\n",
      "\u001b[0;31mValueError\u001b[0m: x need to have the same size as s (given: np.size(s)=30, np.size(x)=34)"
     ]
    }
   ],
   "source": [
    "bevc = PyBEVC()\n",
    "\n",
    "# Setting inputs manually \n",
    "bevc.U0 = 8.0\n",
    "bevc.TSR = 7\n",
    "\n",
    "\n",
    "bevc.flag_a_CT = 2\n",
    "\n",
    "inputfolder = 'examples/project_folder/aero'\n",
    "bevc.from_ae_file(os.path.join(inputfolder,'ae_file.dat'))\n",
    "bevc.from_pc_file(os.path.join(inputfolder,'pc_file.dat'))\n",
    "bevc.from_c2_file(os.path.join(inputfolder,'c2_pos.dat'))\n",
    "\n",
    "# Display all data as an Xarray object\n",
    "xr_inp = bevc.as_xarray()\n",
    "xr_inp"
   ]
  },
  {
   "cell_type": "code",
   "execution_count": 22,
   "metadata": {},
   "outputs": [
    {
     "ename": "UFuncTypeError",
     "evalue": "Cannot cast ufunc 'add' output from dtype('O') to dtype('float64') with casting rule 'same_kind'",
     "output_type": "error",
     "traceback": [
      "\u001b[0;31m---------------------------------------------------------------------------\u001b[0m",
      "\u001b[0;31mUFuncTypeError\u001b[0m                            Traceback (most recent call last)",
      "Cell \u001b[0;32mIn[22], line 18\u001b[0m\n\u001b[1;32m     15\u001b[0m \u001b[38;5;28miter\u001b[39m \u001b[38;5;241m+\u001b[39m\u001b[38;5;241m=\u001b[39m \u001b[38;5;241m1\u001b[39m\n\u001b[1;32m     17\u001b[0m \u001b[38;5;66;03m# Calculate inertial loads\u001b[39;00m\n\u001b[0;32m---> 18\u001b[0m inertial_loads \u001b[38;5;241m=\u001b[39m \u001b[43minertial_loads_fun_v03\u001b[49m\u001b[43m(\u001b[49m\u001b[43mpos_new\u001b[49m\u001b[43m,\u001b[49m\u001b[43m \u001b[49m\u001b[43mbeam\u001b[49m\u001b[43m,\u001b[49m\u001b[43m \u001b[49m\u001b[43mbeam\u001b[49m\u001b[38;5;241;43m.\u001b[39;49m\u001b[43mM_mat_full\u001b[49m\u001b[43m,\u001b[49m\u001b[43m \u001b[49m\u001b[43mhub_di\u001b[49m\u001b[43m,\u001b[49m\u001b[43m \u001b[49m\u001b[43momega\u001b[49m\u001b[43m,\u001b[49m\u001b[43m \u001b[49m\u001b[43mpitch_rad\u001b[49m\u001b[43m)\u001b[49m\n\u001b[1;32m     19\u001b[0m save_load(inertial_loads,projectfolder)\n\u001b[1;32m     21\u001b[0m \u001b[38;5;66;03m# Calculate delta\u001b[39;00m\n",
      "File \u001b[0;32m~/master_thesis/master_thesis/inertial_forces.py:226\u001b[0m, in \u001b[0;36minertial_loads_fun_v03\u001b[0;34m(pos_vec_B2, cg_offset_mat, m_mat, hub_di, omega, pitch_rad)\u001b[0m\n\u001b[1;32m    224\u001b[0m pos_mat_B2 \u001b[38;5;241m=\u001b[39m np\u001b[38;5;241m.\u001b[39mreshape(pos_vec_B2,(\u001b[38;5;241m-\u001b[39m\u001b[38;5;241m1\u001b[39m,\u001b[38;5;241m6\u001b[39m))\n\u001b[1;32m    225\u001b[0m pos_cg_B2 \u001b[38;5;241m=\u001b[39m pos_mat_B2\u001b[38;5;241m.\u001b[39mcopy()\n\u001b[0;32m--> 226\u001b[0m pos_cg_B2[:,:\u001b[38;5;241m3\u001b[39m] \u001b[38;5;241m+\u001b[39m\u001b[38;5;241m=\u001b[39m cg_offset_mat\n\u001b[1;32m    228\u001b[0m \u001b[38;5;66;03m# Put the pos_vec in the rotor frame of reference, B1\u001b[39;00m\n\u001b[1;32m    229\u001b[0m pos_cg_B1 \u001b[38;5;241m=\u001b[39m pos_b1_to_b2(pos_cg_B2\u001b[38;5;241m.\u001b[39mflatten(), pitch_rad, hub_di\u001b[38;5;241m/\u001b[39m\u001b[38;5;241m2\u001b[39m, inv\u001b[38;5;241m=\u001b[39m\u001b[38;5;28;01mTrue\u001b[39;00m) \u001b[38;5;66;03m# The inverse is used!!\u001b[39;00m\n",
      "\u001b[0;31mUFuncTypeError\u001b[0m: Cannot cast ufunc 'add' output from dtype('O') to dtype('float64') with casting rule 'same_kind'"
     ]
    }
   ],
   "source": [
    "# - Init variables\n",
    "pos_new = np.zeros(beam.M_mat_full.shape[0]) # The initial pos are 0. This gives no inertial forces\n",
    "tip_init_pos=beam.nodeLocations[-1]\n",
    "old_tip_def = np.zeros(3)\n",
    "new_tip_def = np.zeros(3)\n",
    "tip_def_history = []\n",
    "delta_history = []\n",
    "iter = 0\n",
    "\n",
    "while abs(delta_u_rel) > epsilon and iter < iter_max:\n",
    "    # Update variables\n",
    "    pos_old = pos_new\n",
    "    old_tip_def = new_tip_def\n",
    "    tip_def_history.append(np.linalg.norm(old_tip_def))\n",
    "    iter += 1\n",
    "\n",
    "    # Calculate inertial loads\n",
    "    inertial_loads = inertial_loads_fun_v03(pos_new, beam, beam.M_mat_full, hub_di, omega, pitch_rad)\n",
    "    save_load(inertial_loads,projectfolder)\n",
    "\n",
    "    # Calculate delta\n",
    "    delta_u_rel = np.linalg.norm(new_tip_def - old_tip_def)/r[-1]\n",
    "    delta_history.append(delta_u_rel)"
   ]
  },
  {
   "cell_type": "code",
   "execution_count": null,
   "metadata": {},
   "outputs": [],
   "source": []
  }
 ],
 "metadata": {
  "kernelspec": {
   "display_name": "Python 3",
   "language": "python",
   "name": "python3"
  },
  "language_info": {
   "codemirror_mode": {
    "name": "ipython",
    "version": 3
   },
   "file_extension": ".py",
   "mimetype": "text/x-python",
   "name": "python",
   "nbconvert_exporter": "python",
   "pygments_lexer": "ipython3",
   "version": "3.undefined.undefined"
  }
 },
 "nbformat": 4,
 "nbformat_minor": 2
}
