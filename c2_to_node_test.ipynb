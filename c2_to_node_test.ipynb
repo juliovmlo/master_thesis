{
 "cells": [
  {
   "cell_type": "code",
   "execution_count": 1,
   "metadata": {},
   "outputs": [
    {
     "name": "stderr",
     "output_type": "stream",
     "text": [
      "C:\\Users\\julio\\AppData\\Roaming\\Python\\Python311\\site-packages\\pandas\\core\\arrays\\masked.py:60: UserWarning: Pandas requires version '1.3.6' or newer of 'bottleneck' (version '1.3.5' currently installed).\n",
      "  from pandas.core import (\n",
      "C:\\Users\\julio\\AppData\\Local\\Temp\\ipykernel_27032\\4282684689.py:5: DeprecationWarning: \n",
      "Pyarrow will become a required dependency of pandas in the next major release of pandas (pandas 3.0),\n",
      "(to allow more performant data types, such as the Arrow string type, and better interoperability with other libraries)\n",
      "but was not found to be installed on your system.\n",
      "If this would cause problems for you,\n",
      "please provide us feedback at https://github.com/pandas-dev/pandas/issues/54466\n",
      "        \n",
      "  import pandas as pd\n"
     ]
    }
   ],
   "source": [
    "# Import libraries\n",
    "import os\n",
    "import sys\n",
    "import numpy as np\n",
    "import pandas as pd\n",
    "from matplotlib import pyplot as plt\n",
    "from beam_corot.ComplBeam import ComplBeam\n",
    "from beam_corot.CoRot import CoRot\n",
    "from utils import save_load, c2_to_node"
   ]
  },
  {
   "cell_type": "code",
   "execution_count": 7,
   "metadata": {},
   "outputs": [
    {
     "name": "stdout",
     "output_type": "stream",
     "text": [
      "-----------\n",
      "ComplBeam Model Created\n",
      "Static analysis done\n",
      "pos = array([[0.1, 0. , 0. , 0. , 0. , 0. ],\n",
      "       [0.1, 0. , 1. , 0. , 0. , 0. ]])\n"
     ]
    }
   ],
   "source": [
    "# Model input json file name\n",
    "f_model_json = \"straight_beam_e_offset_static.json\"\n",
    "\n",
    "# Input files folder\n",
    "inputfolder = os.path.join(os.getcwd(),'straight_beam')\n",
    "mainfile = os.path.join(inputfolder,f_model_json)\n",
    "\n",
    "# - Instantiate beam\n",
    "save_load([0], inputfolder, onlyy=True) # Creates a force file\n",
    "beam = ComplBeam(mainfile)\n",
    "\n",
    "# - Get the radius location of nodes\n",
    "r = beam.nodeLocations[:,2] # z-axis position\n",
    "beam.nodeLocations\n",
    "\n",
    "pos = np.concatenate((beam.nodeLocations,np.zeros((2,3))), axis=1)\n",
    "print(f'{pos = }')"
   ]
  },
  {
   "cell_type": "code",
   "execution_count": 8,
   "metadata": {},
   "outputs": [
    {
     "data": {
      "text/plain": [
       "array([[1., 1., 1., 1., 1., 1.],\n",
       "       [1., 1., 1., 1., 1., 1.]])"
      ]
     },
     "execution_count": 8,
     "metadata": {},
     "output_type": "execute_result"
    }
   ],
   "source": []
  },
  {
   "cell_type": "code",
   "execution_count": 9,
   "metadata": {},
   "outputs": [
    {
     "data": {
      "text/plain": [
       "array([[-0.1,  0. ,  0. ],\n",
       "       [-0.1,  0. ,  0. ]])"
      ]
     },
     "execution_count": 9,
     "metadata": {},
     "output_type": "execute_result"
    }
   ],
   "source": [
    "# Nodes are located in the elastic centre\n",
    "c2_pos = beam.c2Input[:, 1:4]\n",
    "node_pos = beam.nodeLocations # Elastic centre position in the spline. Nx2\n",
    "r_node2c2 = c2_pos - node_pos\n",
    "r_node2c2"
   ]
  },
  {
   "cell_type": "code",
   "execution_count": 11,
   "metadata": {},
   "outputs": [
    {
     "data": {
      "text/plain": [
       "array([[0., 0., 0., 0., 0., 1.],\n",
       "       [0., 0., 0., 0., 0., 1.]])"
      ]
     },
     "execution_count": 11,
     "metadata": {},
     "output_type": "execute_result"
    }
   ],
   "source": [
    "# Moment only in z-axis. It is not affected by the offset\n",
    "loads = np.zeros((pos.shape[0],6))\n",
    "loads[:,5] = 1\n",
    "\n",
    "c2_to_node(beam, loads)"
   ]
  },
  {
   "cell_type": "code",
   "execution_count": 12,
   "metadata": {},
   "outputs": [
    {
     "data": {
      "text/plain": [
       "array([[1., 0., 0., 0., 0., 0.],\n",
       "       [1., 0., 0., 0., 0., 0.]])"
      ]
     },
     "execution_count": 12,
     "metadata": {},
     "output_type": "execute_result"
    }
   ],
   "source": [
    "# Force in x-axis. It does not induce a moment since the offset is in the x-axis\n",
    "loads = np.zeros((pos.shape[0],6))\n",
    "loads[:,0] = 1\n",
    "\n",
    "c2_to_node(beam, loads)"
   ]
  },
  {
   "cell_type": "code",
   "execution_count": 13,
   "metadata": {},
   "outputs": [
    {
     "data": {
      "text/plain": [
       "array([[ 0. ,  1. ,  0. ,  0. ,  0. , -0.2],\n",
       "       [ 0. ,  1. ,  0. ,  0. ,  0. , -0.2]])"
      ]
     },
     "execution_count": 13,
     "metadata": {},
     "output_type": "execute_result"
    }
   ],
   "source": [
    "# Force in y-axis. It creates moment in z-axis\n",
    "loads = np.zeros((pos.shape[0],6))\n",
    "loads[:,1] = 1\n",
    "\n",
    "c2_to_node(beam, loads)"
   ]
  },
  {
   "cell_type": "code",
   "execution_count": 14,
   "metadata": {},
   "outputs": [
    {
     "data": {
      "text/plain": [
       "array([[0. , 0. , 1. , 0. , 0.2, 0. ],\n",
       "       [0. , 0. , 1. , 0. , 0.2, 0. ]])"
      ]
     },
     "execution_count": 14,
     "metadata": {},
     "output_type": "execute_result"
    }
   ],
   "source": [
    "# Force in z-axis. It creates moment in y-axis\n",
    "loads = np.zeros((pos.shape[0],6))\n",
    "loads[:,2] = 1\n",
    "\n",
    "c2_to_node(beam, loads)\n"
   ]
  },
  {
   "cell_type": "code",
   "execution_count": null,
   "metadata": {},
   "outputs": [],
   "source": []
  }
 ],
 "metadata": {
  "kernelspec": {
   "display_name": "spyder_env",
   "language": "python",
   "name": "python3"
  },
  "language_info": {
   "codemirror_mode": {
    "name": "ipython",
    "version": 3
   },
   "file_extension": ".py",
   "mimetype": "text/x-python",
   "name": "python",
   "nbconvert_exporter": "python",
   "pygments_lexer": "ipython3",
   "version": "3.11.5"
  }
 },
 "nbformat": 4,
 "nbformat_minor": 2
}
